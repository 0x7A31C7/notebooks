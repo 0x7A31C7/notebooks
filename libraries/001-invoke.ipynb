{
 "cells": [
  {
   "cell_type": "markdown",
   "metadata": {},
   "source": [
    "# Invoke"
   ]
  },
  {
   "cell_type": "code",
   "execution_count": 71,
   "metadata": {},
   "outputs": [],
   "source": [
    "import platform\n",
    "import json\n",
    "\n",
    "import invoke\n",
    "from invoke import Program, Collection, task"
   ]
  },
  {
   "cell_type": "code",
   "execution_count": 2,
   "metadata": {},
   "outputs": [
    {
     "name": "stdout",
     "output_type": "stream",
     "text": [
      "- python=3.7.3\n",
      "- invoke=1.3.0\n"
     ]
    }
   ],
   "source": [
    "print(f'- python={platform.python_version()}')\n",
    "print(f'- invoke={invoke.__version__}')"
   ]
  },
  {
   "cell_type": "markdown",
   "metadata": {},
   "source": [
    "Invoke is a Python (2.7 and 3.4+) task execution tool & library, drawing inspiration from various sources like GNU Make and Ruby's Rake tool."
   ]
  },
  {
   "cell_type": "markdown",
   "metadata": {},
   "source": [
    "## Example"
   ]
  },
  {
   "cell_type": "code",
   "execution_count": 6,
   "metadata": {},
   "outputs": [],
   "source": [
    "@task\n",
    "def say_hello(ctx):\n",
    "    print('Bounjour!')\n",
    "\n",
    "@task\n",
    "def say_bye(ctx):\n",
    "    print('Bye!')"
   ]
  },
  {
   "cell_type": "code",
   "execution_count": 7,
   "metadata": {},
   "outputs": [],
   "source": [
    "ns = Collection('MyTasks')"
   ]
  },
  {
   "cell_type": "code",
   "execution_count": 8,
   "metadata": {},
   "outputs": [],
   "source": [
    "ns.add_task(say_hello)\n",
    "ns.add_task(say_bye)"
   ]
  },
  {
   "cell_type": "code",
   "execution_count": 9,
   "metadata": {},
   "outputs": [],
   "source": [
    "program = Program(name='try', namespace=ns)"
   ]
  },
  {
   "cell_type": "code",
   "execution_count": 10,
   "metadata": {},
   "outputs": [
    {
     "name": "stdout",
     "output_type": "stream",
     "text": [
      "Subcommands:\n",
      "\n",
      "  say-bye\n",
      "  say-hello\n",
      "\n"
     ]
    }
   ],
   "source": [
    "program.run(\"try --list\", exit=False)"
   ]
  },
  {
   "cell_type": "code",
   "execution_count": 15,
   "metadata": {},
   "outputs": [
    {
     "name": "stdout",
     "output_type": "stream",
     "text": [
      "Bounjour!\n"
     ]
    }
   ],
   "source": [
    "program.run(\"try say-hello\", exit=False)"
   ]
  },
  {
   "cell_type": "code",
   "execution_count": 11,
   "metadata": {},
   "outputs": [],
   "source": [
    "@task(pre=[say_hello], post=[say_bye])\n",
    "def say_name(ctx, name):\n",
    "    print(f'Nice to meet you, {name}.')"
   ]
  },
  {
   "cell_type": "code",
   "execution_count": 12,
   "metadata": {},
   "outputs": [],
   "source": [
    "ns.add_task(say_name)"
   ]
  },
  {
   "cell_type": "code",
   "execution_count": 13,
   "metadata": {},
   "outputs": [
    {
     "name": "stdout",
     "output_type": "stream",
     "text": [
      "Subcommands:\n",
      "\n",
      "  say-bye\n",
      "  say-hello\n",
      "  say-name\n",
      "\n"
     ]
    }
   ],
   "source": [
    "program.run(\"try --list\", exit=False)"
   ]
  },
  {
   "cell_type": "code",
   "execution_count": 11,
   "metadata": {},
   "outputs": [
    {
     "name": "stdout",
     "output_type": "stream",
     "text": [
      "Bounjour!\n",
      "Nice to meet you, John.\n",
      "Bye!\n"
     ]
    }
   ],
   "source": [
    "program.run(\"try say-name John\", exit=False)"
   ]
  },
  {
   "cell_type": "code",
   "execution_count": 76,
   "metadata": {},
   "outputs": [
    {
     "name": "stdout",
     "output_type": "stream",
     "text": [
      "Bounjour!\n",
      "Nice to meet you, John.\n",
      "Bye!\n"
     ]
    }
   ],
   "source": [
    "program.run(\"try say-name John say-bye\", exit=False)"
   ]
  },
  {
   "cell_type": "code",
   "execution_count": 73,
   "metadata": {},
   "outputs": [],
   "source": [
    "@task\n",
    "def print_config(ctx):\n",
    "    print(json.dumps(ctx.config._config, indent=4, default=lambda x: '[REMOVED]'))\n",
    "\n",
    "ns.add_task(print_config)"
   ]
  },
  {
   "cell_type": "code",
   "execution_count": 75,
   "metadata": {},
   "outputs": [
    {
     "name": "stdout",
     "output_type": "stream",
     "text": [
      "{\n",
      "    \"run\": {\n",
      "        \"warn\": false,\n",
      "        \"hide\": null,\n",
      "        \"shell\": \"/bin/bash\",\n",
      "        \"pty\": false,\n",
      "        \"fallback\": true,\n",
      "        \"env\": {},\n",
      "        \"replace_env\": false,\n",
      "        \"echo\": false,\n",
      "        \"encoding\": null,\n",
      "        \"out_stream\": null,\n",
      "        \"err_stream\": null,\n",
      "        \"in_stream\": null,\n",
      "        \"watchers\": [],\n",
      "        \"echo_stdin\": null,\n",
      "        \"dry\": false\n",
      "    },\n",
      "    \"runners\": {\n",
      "        \"local\": \"[REMOVED]\"\n",
      "    },\n",
      "    \"sudo\": {\n",
      "        \"prompt\": \"[sudo] password: \",\n",
      "        \"password\": null,\n",
      "        \"user\": null\n",
      "    },\n",
      "    \"tasks\": {\n",
      "        \"auto_dash_names\": true,\n",
      "        \"collection_name\": \"tasks\",\n",
      "        \"dedupe\": true,\n",
      "        \"executor_class\": null,\n",
      "        \"search_root\": null\n",
      "    },\n",
      "    \"timeouts\": {\n",
      "        \"command\": null\n",
      "    }\n",
      "}\n"
     ]
    }
   ],
   "source": [
    "program.run(\"try print-config\", exit=False)"
   ]
  },
  {
   "cell_type": "code",
   "execution_count": 90,
   "metadata": {},
   "outputs": [],
   "source": [
    "@task\n",
    "def print_content(ctx, file):\n",
    "    result = ctx.run(f'cat {file}', warn=True)\n",
    "    print(result.exited)\n",
    "    \n",
    "ns.add_task(print_content)"
   ]
  },
  {
   "cell_type": "code",
   "execution_count": 91,
   "metadata": {},
   "outputs": [
    {
     "name": "stderr",
     "output_type": "stream",
     "text": [
      "cat: noexist.md: No such file or directory\n"
     ]
    },
    {
     "name": "stdout",
     "output_type": "stream",
     "text": [
      "1\n"
     ]
    }
   ],
   "source": [
    "program.run(\"try print-content noexist.md\")"
   ]
  },
  {
   "cell_type": "code",
   "execution_count": 4,
   "metadata": {},
   "outputs": [],
   "source": [
    "@task\n",
    "def task1(ctx):\n",
    "    print(\"------task1------\")\n",
    "    print(ctx.config.run.warn)\n",
    "    \n",
    "@task\n",
    "def task2(ctx):\n",
    "    print(\"------task2------\")\n",
    "    print(ctx.config.run.warn)\n",
    "    \n",
    "@task(pre=[task1], post=[task2])\n",
    "def task3(ctx):\n",
    "    print(\"------task3------\")\n",
    "    print(ctx.config.run.warn)\n",
    "#     ctx.run('ls', warn=True)\n",
    "    ctx.run('ls')\n",
    "    ctx.config.run.warn = True\n",
    "    print(ctx.config.run.warn)\n",
    "    \n",
    "ns.add_task(task3)"
   ]
  },
  {
   "cell_type": "code",
   "execution_count": 19,
   "metadata": {},
   "outputs": [],
   "source": [
    "ns.configure({'run':{'warn': True}})"
   ]
  },
  {
   "cell_type": "code",
   "execution_count": 5,
   "metadata": {},
   "outputs": [
    {
     "name": "stdout",
     "output_type": "stream",
     "text": [
      "------task1------\n",
      "False\n",
      "------task3------\n",
      "False\n",
      "001-invoke.ipynb\n",
      "True\n",
      "------task2------\n",
      "True\n"
     ]
    }
   ],
   "source": [
    "program.run(\"try task3\", exit=False)"
   ]
  },
  {
   "cell_type": "code",
   "execution_count": null,
   "metadata": {},
   "outputs": [],
   "source": []
  },
  {
   "cell_type": "code",
   "execution_count": 21,
   "metadata": {},
   "outputs": [],
   "source": [
    "@task\n",
    "def task_python(ctx):\n",
    "    ctx.run('python', pty=True)\n",
    "    \n",
    "ns.add_task(task_python)"
   ]
  },
  {
   "cell_type": "code",
   "execution_count": 22,
   "metadata": {},
   "outputs": [],
   "source": [
    "# program.run('try task-python', exit=False)"
   ]
  },
  {
   "cell_type": "code",
   "execution_count": null,
   "metadata": {},
   "outputs": [],
   "source": []
  },
  {
   "cell_type": "code",
   "execution_count": 1,
   "metadata": {},
   "outputs": [],
   "source": [
    "from subprocess import Popen, PIPE"
   ]
  },
  {
   "cell_type": "code",
   "execution_count": 10,
   "metadata": {},
   "outputs": [],
   "source": [
    "a = Popen(\n",
    "#       \". $CONDA_PREFIX/etc/profile.d/conda.sh && conda activate my_test && conda env list\",\n",
    "      \"conda activate -h\",\n",
    "      shell=True,\n",
    "      executable=\"/bin/bash\",\n",
    "      stdin=PIPE,\n",
    "      stdout=PIPE,\n",
    "      stderr=PIPE\n",
    "     )"
   ]
  },
  {
   "cell_type": "code",
   "execution_count": 11,
   "metadata": {
    "scrolled": false
   },
   "outputs": [
    {
     "name": "stdout",
     "output_type": "stream",
     "text": [
      "STDOUT:\n",
      "\n"
     ]
    }
   ],
   "source": [
    "print(\"STDOUT:\\n\", a.stdout.read().decode('utf8'), sep='')"
   ]
  },
  {
   "cell_type": "code",
   "execution_count": 12,
   "metadata": {},
   "outputs": [
    {
     "name": "stdout",
     "output_type": "stream",
     "text": [
      "STDERR:\n",
      "\n",
      "CommandNotFoundError: Your shell has not been properly configured to use 'conda activate'.\n",
      "To initialize your shell, run\n",
      "\n",
      "    $ conda init <SHELL_NAME>\n",
      "\n",
      "Currently supported shells are:\n",
      "  - bash\n",
      "  - fish\n",
      "  - tcsh\n",
      "  - xonsh\n",
      "  - zsh\n",
      "  - powershell\n",
      "\n",
      "See 'conda init --help' for more information and options.\n",
      "\n",
      "IMPORTANT: You may need to close and restart your shell after running 'conda init'.\n",
      "\n",
      "\n",
      "\n"
     ]
    }
   ],
   "source": [
    "print(\"STDERR:\\n\", a.stderr.read().decode('utf8'), sep='')"
   ]
  },
  {
   "cell_type": "code",
   "execution_count": null,
   "metadata": {},
   "outputs": [],
   "source": []
  },
  {
   "cell_type": "code",
   "execution_count": null,
   "metadata": {},
   "outputs": [],
   "source": []
  },
  {
   "cell_type": "code",
   "execution_count": null,
   "metadata": {},
   "outputs": [],
   "source": []
  },
  {
   "cell_type": "code",
   "execution_count": null,
   "metadata": {},
   "outputs": [],
   "source": []
  },
  {
   "cell_type": "code",
   "execution_count": null,
   "metadata": {},
   "outputs": [],
   "source": []
  },
  {
   "cell_type": "code",
   "execution_count": null,
   "metadata": {},
   "outputs": [],
   "source": []
  },
  {
   "cell_type": "code",
   "execution_count": null,
   "metadata": {},
   "outputs": [],
   "source": []
  },
  {
   "cell_type": "code",
   "execution_count": null,
   "metadata": {},
   "outputs": [],
   "source": []
  },
  {
   "cell_type": "code",
   "execution_count": null,
   "metadata": {},
   "outputs": [],
   "source": []
  }
 ],
 "metadata": {
  "kernelspec": {
   "display_name": "Python 3",
   "language": "python",
   "name": "python3"
  },
  "language_info": {
   "codemirror_mode": {
    "name": "ipython",
    "version": 3
   },
   "file_extension": ".py",
   "mimetype": "text/x-python",
   "name": "python",
   "nbconvert_exporter": "python",
   "pygments_lexer": "ipython3",
   "version": "3.7.3"
  }
 },
 "nbformat": 4,
 "nbformat_minor": 2
}
